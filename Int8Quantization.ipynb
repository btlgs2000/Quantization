{
 "cells": [
  {
   "cell_type": "code",
   "execution_count": 1,
   "metadata": {},
   "outputs": [],
   "source": [
    "import torch\n",
    "import torch.nn as nn\n",
    "import torch.optim as optim\n",
    "from torch.utils.data import DataLoader, Dataset\n",
    "import copy"
   ]
  },
  {
   "cell_type": "code",
   "execution_count": 2,
   "metadata": {},
   "outputs": [],
   "source": [
    "class QuantizedLinearLayer(nn.Module):\n",
    "    \"\"\"Quantized version of nn.Linear\"\"\"\n",
    "\n",
    "    def __init__(\n",
    "        self,\n",
    "        input_dim,\n",
    "        output_dim,\n",
    "        weight,\n",
    "        weight_scale,\n",
    "        weight_zero_point,\n",
    "        bias,\n",
    "        bias_scale,\n",
    "        bias_zero_point,\n",
    "    ):\n",
    "        super().__init__()\n",
    "        self.input_dim = input_dim\n",
    "        self.output_dim = output_dim\n",
    "        self.weight = nn.parameter.Buffer(weight)\n",
    "        self.bias = nn.parameter.Buffer(bias)\n",
    "        self.weight_scale = nn.parameter.Buffer(weight_scale)\n",
    "        self.weight_zero_point = nn.parameter.Buffer(weight_zero_point)\n",
    "        self.bias_scale = nn.parameter.Buffer(bias_scale)\n",
    "        self.bias_zero_point = nn.parameter.Buffer(bias_zero_point)\n",
    "\n",
    "    def forward(self, x):\n",
    "        # x.shape = (batch_size, input_features)\n",
    "\n",
    "        # dequantize params\n",
    "        weight = (self.weight.float() - self.weight_zero_point) / self.weight_scale\n",
    "        bias = (self.bias.float() - self.bias_zero_point) / self.bias_scale\n",
    "\n",
    "        # compute\n",
    "        return x @ weight.T + bias"
   ]
  },
  {
   "cell_type": "code",
   "execution_count": 3,
   "metadata": {},
   "outputs": [],
   "source": [
    "def quantize_linear(linear_layer):\n",
    "    \"\"\"Quantizes a linear layer and returns the quantized weights and biases together\n",
    "    with the scale and zero point\"\"\"\n",
    "    # quantize linear layer to unsigned 8-bit integers\n",
    "    weight = linear_layer.weight\n",
    "\n",
    "    # compute min and max\n",
    "    min_val = weight.min()\n",
    "    max_val = weight.max()\n",
    "\n",
    "    # extend interval to include zero\n",
    "    if min_val > 0:\n",
    "        min_val = 0\n",
    "\n",
    "    if max_val < 0:\n",
    "        max_val = 0\n",
    "\n",
    "    # compute scale\n",
    "    weight_scale = 255 / (max_val - min_val)\n",
    "    # compute zero point\n",
    "    weight_zero_point = (-min_val * weight_scale).round().clamp(0, 255).to(torch.uint8)\n",
    "\n",
    "    # quantize weight\n",
    "    weight_quantized = (\n",
    "        (weight * weight_scale + weight_zero_point)\n",
    "        .round()\n",
    "        .clamp(0, 255)\n",
    "        .to(torch.uint8)\n",
    "    )\n",
    "\n",
    "    # same for bias\n",
    "    bias = linear_layer.bias\n",
    "\n",
    "    min_val = bias.min()\n",
    "    max_val = bias.max()\n",
    "\n",
    "    if min_val > 0:\n",
    "        min_val = 0\n",
    "\n",
    "    if max_val < 0:\n",
    "        max_val = 0\n",
    "\n",
    "    bias_scale = 255 / (max_val - min_val)\n",
    "    bias_zero_point = (-min_val * bias_scale).round().clamp(0, 255).to(torch.uint8)\n",
    "\n",
    "    bias_quantized = (\n",
    "        (bias * bias_scale + bias_zero_point).round().clamp(0, 255).to(torch.uint8)\n",
    "    )\n",
    "\n",
    "    return (\n",
    "        weight_quantized,\n",
    "        weight_scale,\n",
    "        weight_zero_point,\n",
    "        bias_quantized,\n",
    "        bias_scale,\n",
    "        bias_zero_point,\n",
    "    )"
   ]
  },
  {
   "cell_type": "code",
   "execution_count": 4,
   "metadata": {},
   "outputs": [],
   "source": [
    "def quantize_model(model, exclude_layers, copy_model=True):\n",
    "    \"\"\"It quantizes the model by quantizing all the linear layers in the model.\n",
    "    Args:\n",
    "        model: the model to quantize\n",
    "        exclude_layers: list of layers to exclude from quantization\n",
    "        copy_model: if True, the model is copied before quantization. \n",
    "            If False, the model is quantized in place\n",
    "\n",
    "    Returns:\n",
    "        the quantized model\"\"\"\n",
    "\n",
    "    if copy_model:\n",
    "        model = copy.deepcopy(model)\n",
    "\n",
    "    # quantize model\n",
    "    for name, layer in model.named_children():\n",
    "        if name in exclude_layers:\n",
    "            continue\n",
    "        if isinstance(layer, nn.Linear):\n",
    "            # quantize layer\n",
    "            (\n",
    "                weight,\n",
    "                weight_scale,\n",
    "                weight_zero_point,\n",
    "                bias,\n",
    "                bias_scale,\n",
    "                bias_zero_point,\n",
    "            ) = quantize_linear(layer)\n",
    "            # replace layer with quantized version\n",
    "            setattr(\n",
    "                model,\n",
    "                name,\n",
    "                QuantizedLinearLayer(\n",
    "                    layer.in_features,\n",
    "                    layer.out_features,\n",
    "                    weight,\n",
    "                    weight_scale,\n",
    "                    weight_zero_point,\n",
    "                    bias,\n",
    "                    bias_scale,\n",
    "                    bias_zero_point,\n",
    "                ),\n",
    "            )\n",
    "        else:\n",
    "            # recursively quantize children\n",
    "            quantize_model(layer, exclude_layers)\n",
    "\n",
    "    return model"
   ]
  },
  {
   "cell_type": "markdown",
   "metadata": {},
   "source": [
    "# Example"
   ]
  },
  {
   "cell_type": "code",
   "execution_count": 5,
   "metadata": {},
   "outputs": [],
   "source": [
    "linear_layer = nn.Linear(10, 20)\n",
    "\n",
    "x = torch.randn(5, 10)\n",
    "\n",
    "(\n",
    "    weight_quantized,\n",
    "    weight_scale,\n",
    "    weight_zero_point,\n",
    "    bias_quantized,\n",
    "    bias_scale,\n",
    "    bias_zero_point,\n",
    ") = quantize_linear(linear_layer)\n",
    "\n",
    "quantized_linear_layer = QuantizedLinearLayer(\n",
    "    10,\n",
    "    20,\n",
    "    weight_quantized,\n",
    "    weight_scale,\n",
    "    weight_zero_point,\n",
    "    bias_quantized,\n",
    "    bias_scale,\n",
    "    bias_zero_point,\n",
    ")"
   ]
  },
  {
   "cell_type": "code",
   "execution_count": null,
   "metadata": {},
   "outputs": [],
   "source": [
    "linear_layer.bias"
   ]
  },
  {
   "cell_type": "code",
   "execution_count": null,
   "metadata": {},
   "outputs": [],
   "source": [
    "(bias_quantized - bias_zero_point.float()) / bias_scale"
   ]
  },
  {
   "cell_type": "code",
   "execution_count": null,
   "metadata": {},
   "outputs": [],
   "source": [
    "weight_quantized, weight_scale, weight_zero_point, bias_quantized, bias_scale, bias_zero_point"
   ]
  },
  {
   "cell_type": "code",
   "execution_count": null,
   "metadata": {},
   "outputs": [],
   "source": [
    "linear_layer(x)"
   ]
  },
  {
   "cell_type": "code",
   "execution_count": null,
   "metadata": {},
   "outputs": [],
   "source": [
    "torch.tensor(1.0) - torch.tensor(255, dtype=torch.uint8)"
   ]
  },
  {
   "cell_type": "markdown",
   "metadata": {},
   "source": [
    "# Test on real Network"
   ]
  },
  {
   "cell_type": "code",
   "execution_count": 11,
   "metadata": {},
   "outputs": [],
   "source": [
    "from torchvision.datasets import MNIST"
   ]
  },
  {
   "cell_type": "code",
   "execution_count": 12,
   "metadata": {},
   "outputs": [],
   "source": [
    "# load dataset\n",
    "mnist_train = MNIST(root=\"data\", download=True, train=True)\n",
    "mnist_test = MNIST(root=\"data\", download=True, train=False)"
   ]
  },
  {
   "cell_type": "code",
   "execution_count": 13,
   "metadata": {},
   "outputs": [],
   "source": [
    "x_train = mnist_train.data / 255.0\n",
    "y_train = mnist_train.targets\n",
    "\n",
    "x_test = mnist_test.data / 255.0\n",
    "y_test = mnist_test.targets"
   ]
  },
  {
   "cell_type": "code",
   "execution_count": 14,
   "metadata": {},
   "outputs": [],
   "source": [
    "# create a MLP with dropout\n",
    "model = nn.Sequential(\n",
    "    nn.Flatten(),\n",
    "    nn.Linear(784, 128),\n",
    "    nn.ReLU(),\n",
    "    nn.Dropout(0.2),\n",
    "    nn.Linear(128, 64),\n",
    "    nn.ReLU(),\n",
    "    nn.Dropout(0.2),\n",
    "    nn.Linear(64, 10),\n",
    ")"
   ]
  },
  {
   "cell_type": "code",
   "execution_count": 15,
   "metadata": {},
   "outputs": [],
   "source": [
    "train_dataset = torch.utils.data.TensorDataset(x_train, y_train)\n",
    "test_dataset = torch.utils.data.TensorDataset(x_test, y_test)"
   ]
  },
  {
   "cell_type": "code",
   "execution_count": 16,
   "metadata": {},
   "outputs": [],
   "source": [
    "# Hyperparameters\n",
    "BATCH_SIZE = 64\n",
    "EPOCHS = 10\n",
    "LEARNING_RATE = 0.001\n",
    "HIDDEN_SIZE = 128\n",
    "DEVICE = torch.device(\"cuda\" if torch.cuda.is_available() else \"cpu\")\n",
    "\n",
    "train_loader = DataLoader(train_dataset, batch_size=BATCH_SIZE, shuffle=True)\n",
    "test_loader = DataLoader(test_dataset, batch_size=BATCH_SIZE, shuffle=False)\n",
    "\n",
    "# Inizializzazione modello, loss e optimizer\n",
    "model.to(DEVICE)\n",
    "criterion = nn.CrossEntropyLoss()\n",
    "optimizer = optim.Adam(model.parameters(), lr=LEARNING_RATE)\n",
    "\n",
    "\n",
    "def train_epoch(model, train_loader, criterion, optimizer, device):\n",
    "    model.train()\n",
    "    running_loss = 0.0\n",
    "    correct = 0\n",
    "    total = 0\n",
    "\n",
    "    for batch_idx, (data, target) in enumerate(train_loader):\n",
    "        data, target = data.to(device), target.to(device)\n",
    "\n",
    "        optimizer.zero_grad()\n",
    "        output = model(data)\n",
    "        loss = criterion(output, target)\n",
    "        loss.backward()\n",
    "        optimizer.step()\n",
    "\n",
    "        running_loss += loss.item()\n",
    "        _, predicted = output.max(1)\n",
    "        total += target.size(0)\n",
    "        correct += predicted.eq(target).sum().item()\n",
    "\n",
    "        if batch_idx % 100 == 0:\n",
    "            print(\n",
    "                f\"Batch: {batch_idx}/{len(train_loader)}, \"\n",
    "                f\"Loss: {loss.item():.4f}, \"\n",
    "                f\"Accuracy: {100.*correct/total:.2f}%\"\n",
    "            )\n",
    "\n",
    "    return running_loss / len(train_loader), 100.0 * correct / total\n",
    "\n",
    "\n",
    "def evaluate(model, test_loader, criterion, device):\n",
    "    model.eval()\n",
    "    test_loss = 0\n",
    "    correct = 0\n",
    "    total = 0\n",
    "\n",
    "    with torch.no_grad():\n",
    "        for data, target in test_loader:\n",
    "            data, target = data.to(device), target.to(device)\n",
    "            output = model(data)\n",
    "            test_loss += criterion(output, target).item()\n",
    "            _, predicted = output.max(1)\n",
    "            total += target.size(0)\n",
    "            correct += predicted.eq(target).sum().item()\n",
    "\n",
    "    test_loss /= len(test_loader)\n",
    "    accuracy = 100.0 * correct / total\n",
    "\n",
    "    print(f\"\\nTest set: Average loss: {test_loss:.4f}, \" f\"Accuracy: {accuracy:.2f}%\\n\")\n",
    "\n",
    "    return test_loss, accuracy"
   ]
  },
  {
   "cell_type": "code",
   "execution_count": null,
   "metadata": {},
   "outputs": [],
   "source": [
    "# Training\n",
    "best_accuracy = 0.0\n",
    "for epoch in range(EPOCHS):\n",
    "    print(f\"\\nEpoch: {epoch+1}/{EPOCHS}\")\n",
    "    train_loss, train_acc = train_epoch(\n",
    "        model, train_loader, criterion, optimizer, DEVICE\n",
    "    )\n",
    "    test_loss, test_acc = evaluate(model, test_loader, criterion, DEVICE)\n",
    "\n",
    "    if test_acc > best_accuracy:\n",
    "        best_accuracy = test_acc\n",
    "        # Salvataggio del miglior modello\n",
    "        torch.save(model.state_dict(), \"mlp_mnist_best.pth\")\n",
    "\n",
    "print(f\"Training completato! Miglior accuratezza: {best_accuracy:.2f}%\")"
   ]
  },
  {
   "cell_type": "code",
   "execution_count": null,
   "metadata": {},
   "outputs": [],
   "source": [
    "evaluate(model, test_loader, criterion, DEVICE)"
   ]
  },
  {
   "cell_type": "code",
   "execution_count": null,
   "metadata": {},
   "outputs": [],
   "source": [
    "# quantize model\n",
    "quantized_model = quantize_model(model, [])\n",
    "\n",
    "evaluate(quantized_model, test_loader, criterion, DEVICE)"
   ]
  }
 ],
 "metadata": {
  "kernelspec": {
   "display_name": "experiscv2024",
   "language": "python",
   "name": "python3"
  },
  "language_info": {
   "codemirror_mode": {
    "name": "ipython",
    "version": 3
   },
   "file_extension": ".py",
   "mimetype": "text/x-python",
   "name": "python",
   "nbconvert_exporter": "python",
   "pygments_lexer": "ipython3",
   "version": "3.11.9"
  }
 },
 "nbformat": 4,
 "nbformat_minor": 2
}
